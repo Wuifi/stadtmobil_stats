{
 "cells": [
  {
   "attachments": {},
   "cell_type": "markdown",
   "metadata": {},
   "source": [
    "# Kartendarstellung"
   ]
  },
  {
   "cell_type": "code",
   "execution_count": null,
   "metadata": {},
   "outputs": [],
   "source": [
    "import pandas as pd\n",
    "from src.user_lib.read_file import *\n",
    "\n",
    "#from tqdm import tqdm\n",
    "\n",
    "from geopy.geocoders import Nominatim\n",
    "from geopy.extra.rate_limiter import RateLimiter\n",
    "\n",
    "import geopandas as gpd\n",
    "from geopandas import GeoDataFrame\n",
    "from shapely.geometry import Point\n",
    "import folium"
   ]
  },
  {
   "cell_type": "code",
   "execution_count": null,
   "metadata": {},
   "outputs": [],
   "source": [
    "# pathtofile = 'data/Rechnungen_Stadtmobil.xlsx'\n",
    "# sheetname = 'Rechnungen_Stadtmobil'\n",
    "# df = readDataFromXls(pathtofile,sheetname)\n",
    "# df.to_pickle('data/df.pkl')\n",
    "df= pd.read_pickle('data/df.pkl')\n",
    "\n",
    "df.sample(5)"
   ]
  },
  {
   "cell_type": "code",
   "execution_count": null,
   "metadata": {},
   "outputs": [],
   "source": [
    "\n",
    "def cleanaddress(str):\n",
    "    try:\n",
    "        str=str.split(',')[1]\n",
    "    except:\n",
    "        str=str \n",
    "    return str\n"
   ]
  },
  {
   "cell_type": "code",
   "execution_count": null,
   "metadata": {},
   "outputs": [],
   "source": [
    "\n",
    "#df['Adresse'] = df.apply(lambda x: cleanaddress(x['Adresse']), axis=1)\n",
    "#df[df['Adresse'].str.contains('c/o')==True]"
   ]
  },
  {
   "cell_type": "markdown",
   "metadata": {},
   "source": [
    "## get coordinates for addresses from OSM-API"
   ]
  },
  {
   "cell_type": "code",
   "execution_count": null,
   "metadata": {},
   "outputs": [],
   "source": [
    "#from geopy.geocoders import Nominatim\n",
    "#from geopy.extra.rate_limiter import RateLimiter\n",
    "geolocator = Nominatim(user_agent=\"test_agent\")\n",
    "geocode = RateLimiter(geolocator.geocode, min_delay_seconds=1)\n",
    "#location = geolocator.geocode(\"175 5th Avenue NYC\")\n",
    "location = geolocator.geocode(\"Johann-Weiß-Str. 18 68167 Mannheim\")\n",
    "\n",
    "print(location.address)\n",
    "#Flatiron Building, 175, 5th Avenue, Flatiron, New York, NYC, New York, ...\n",
    "print((location.latitude, location.longitude))\n",
    "#(40.7410861, -73.9896297241625)\n",
    "print(location.raw)\n",
    "#{'place_id': '9167009604', 'type': 'attraction', ...}\n"
   ]
  },
  {
   "cell_type": "code",
   "execution_count": null,
   "metadata": {},
   "outputs": [],
   "source": [
    "# nur die daten mit \n",
    "df_buchungen = df[df['km-/Kraftstoffpreis'].isna()==False]\n",
    "df_buchungen.sample(3)"
   ]
  },
  {
   "cell_type": "code",
   "execution_count": null,
   "metadata": {},
   "outputs": [],
   "source": [
    "from geopy.geocoders import Nominatim\n",
    "geolocator = Nominatim(user_agent=\"test_agent\")\n",
    "\n",
    "from geopy.extra.rate_limiter import RateLimiter\n",
    "geocode = RateLimiter(geolocator.geocode, min_delay_seconds=1)\n",
    "\n",
    "\n",
    "#tqdm.pandas()\n",
    "#df_mitglieder['location'] = df_mitglieder['Anschrift'].progress_apply(geocode)\n",
    "df_buchungen['location'] = df_buchungen['Adresse'].apply(geocode)\n",
    "df_buchungen['point'] = df_buchungen['location'].apply(lambda loc: tuple(loc.point) if loc else None)"
   ]
  },
  {
   "cell_type": "markdown",
   "metadata": {},
   "source": [
    "## Konvertierung in Geodataframe"
   ]
  },
  {
   "cell_type": "code",
   "execution_count": null,
   "metadata": {},
   "outputs": [],
   "source": [
    "df_buchungen['geometry'] = df_buchungen['location'].apply(lambda loc: (loc.longitude, loc.latitude) if loc else None)\n",
    "df_buchungen.tail(2)\n",
    "#coordinate_values = (location.longitude, location.latitude)  #in geopandas, the x value corresponds to the longitude while the y value, the latitude(Just in case you were wondering why it was *location.longitude, location.latitude* and not the other way round )"
   ]
  },
  {
   "cell_type": "markdown",
   "metadata": {},
   "source": []
  },
  {
   "cell_type": "code",
   "execution_count": null,
   "metadata": {},
   "outputs": [],
   "source": [
    "# check, if there are any locations empty ==> shall be removed for further processing\n",
    "df_buchungen[df_buchungen['geometry'].isna()] \n"
   ]
  },
  {
   "cell_type": "code",
   "execution_count": null,
   "metadata": {},
   "outputs": [],
   "source": [
    "df_buchungen=df_buchungen[~df_buchungen['geometry'].isna()]"
   ]
  },
  {
   "cell_type": "code",
   "execution_count": null,
   "metadata": {},
   "outputs": [],
   "source": [
    "print(df_buchungen['geometry'].head())"
   ]
  },
  {
   "cell_type": "code",
   "execution_count": null,
   "metadata": {},
   "outputs": [],
   "source": [
    "df_buchungen['geometry']"
   ]
  },
  {
   "cell_type": "code",
   "execution_count": null,
   "metadata": {},
   "outputs": [],
   "source": [
    "df_buchungen['geometry'] = df_buchungen['geometry'].apply(Point)\n",
    "gdf = gpd.GeoDataFrame(df_buchungen, geometry='geometry')#, crs='epsg:4326')\n",
    "gdf.head(2)\n"
   ]
  },
  {
   "cell_type": "code",
   "execution_count": null,
   "metadata": {},
   "outputs": [],
   "source": [
    "pd.to_pickle(gdf,\"./data/gdf.pkl\")"
   ]
  },
  {
   "cell_type": "code",
   "execution_count": null,
   "metadata": {},
   "outputs": [],
   "source": [
    "gdf.columns"
   ]
  },
  {
   "cell_type": "code",
   "execution_count": null,
   "metadata": {},
   "outputs": [],
   "source": [
    "#gdf = gdf.astype(str)\n",
    "gdf=pd.read_pickle(\"./data/gdf.pkl\")\n",
    "gdf.drop(['Dauer','Dauer_hours', 'Buchungsnr', 'location', 'point'], axis=\"columns\", inplace=True)\n",
    "\n",
    "gdf=gdf.replace(to_replace=[r'ä', r'ö', r'ü', r'Ä', r'Ö', r'Ü', r'ß'],\n",
    "              value=['ae', 'oe', 'ue','Ae', 'Oe', 'Ue', 'ss'],regex=True) "
   ]
  },
  {
   "cell_type": "code",
   "execution_count": null,
   "metadata": {},
   "outputs": [],
   "source": [
    "gdf.head()"
   ]
  },
  {
   "cell_type": "code",
   "execution_count": null,
   "metadata": {},
   "outputs": [],
   "source": [
    "#pd.to_pickle(gdf,\"./data/gdf_mitglieder.pkl\")\n",
    "gdf.crs = 'epsg:4326'\n",
    "gdf.to_file('./data/locations.geojson', driver=\"GeoJSON\")  "
   ]
  },
  {
   "cell_type": "code",
   "execution_count": null,
   "metadata": {},
   "outputs": [],
   "source": [
    "gdf.head(2)"
   ]
  },
  {
   "cell_type": "code",
   "execution_count": null,
   "metadata": {},
   "outputs": [],
   "source": [
    "gjson = gdf['geometry'].to_json()\n"
   ]
  },
  {
   "cell_type": "code",
   "execution_count": null,
   "metadata": {},
   "outputs": [],
   "source": [
    "\n",
    "\n",
    "m = folium.Map(location=[49.50786825, 8.489917597582128], tiles='cartodb positron', zoom_start=14)\n",
    "locs = folium.features.GeoJson(gjson)\n",
    "m.add_child(locs)\n",
    "folium.Marker(location=[49.50786825, 8.489917597582128],popup = 'home',\n",
    "                  icon= folium.Icon(color='green',\n",
    "                  icon_color='yellow',icon = 'home')).add_to(m)\n",
    "m  \n"
   ]
  },
  {
   "cell_type": "code",
   "execution_count": null,
   "metadata": {},
   "outputs": [],
   "source": [
    "statusdict={'Diesel':'brown',\n",
    "        'Benzin':'red',\n",
    "        'Elektro':'lightgreen',\n",
    "        # 'O':'orange',\n",
    "        # 'M':'pink',\n",
    "        # 'R':'red',\n",
    "        # 'HG':'lightgreen',\n",
    "        # 'RS':'lightred',\n",
    "        # 'B':'blue'\n",
    "        }\n",
    "#[‘red’, ‘blue’, ‘green’, ‘purple’, ‘orange’, ‘darkred’,\n",
    "#’lightred’, ‘beige’, ‘darkblue’, ‘darkgreen’, ‘cadetblue’, ‘darkpurple’, ‘white’, ‘pink’, ‘lightblue’, ‘lightgreen’, ‘gray’, ‘black’, ‘lightgray’]\n",
    "\n",
    "def setstatusmitgliedschaftfarbe(dict,status):\n",
    "    color = 'lightgray'\n",
    "    try:\n",
    "        color = dict[status]\n",
    "    except:\n",
    "        color = 'lightgray'\n",
    "    return color\n"
   ]
  },
  {
   "cell_type": "code",
   "execution_count": null,
   "metadata": {},
   "outputs": [],
   "source": [
    "m = folium.Map(location=[52.47468939414727, 13.416986828692476], zoom_start=20, max_zoom=30, \n",
    "               tiles=\"OpenStreetMap\", overlay=True, control=False)\n",
    "tooltip = \"Click me!\"\n",
    "layer1 = folium.FeatureGroup(name='Anschriften', overlay=True, control=True)    \n",
    "for _, r in gdf.iterrows():\n",
    "    lat = r['point'].y\n",
    "    lon = r['point'].x\n",
    "    #popupcolor,popupicon,popuptext=setpopupstyle(r['Art'],r['BMK_Loc'])\n",
    "    popupcolor=setstatusmitgliedschaftfarbe(dict,r['Kraftstoff'])\n",
    "    folium.Marker(location=[lat, lon],\n",
    "                  #popup=r['Vor+Nachname'],\n",
    "                  icon=folium.Icon(color=popupcolor) #, icon=popupicon\n",
    "                  ).add_to(layer1)\n",
    "layer1.add_to(m)\n",
    "\n",
    "#layer2 = folium.FeatureGroup(name='Vereine', overlay=True, control=True)       \n",
    "#for _, r in dfGrundriss.iterrows():\n",
    "##    # Without simplifying the representation of each borough,\n",
    "##    # the map might not be displayed\n",
    "#    sim_geo = gpd.GeoSeries(r['geometry']).simplify(tolerance=0.000001)\n",
    "#    geo_j = sim_geo.to_json()\n",
    "#    geo_j = folium.GeoJson(data=geo_j,\n",
    "#                           style_function=lambda x: {'fillColor': 'orange'},popup=r['Verein'])\n",
    "#    folium.Popup(r['Verein']).add_to(geo_j)\n",
    "#    geo_j.add_to(layer2)\n",
    "#layer2.add_to(m)   \n",
    "\n",
    "#layer3 = folium.FeatureGroup(name='Farbgruppen', overlay=True, control=True)      \n",
    "#for _, r in dfFarbgruppen.iterrows():\n",
    "##    # Without simplifying the representation of each borough,\n",
    "##    # the map might not be displayed\n",
    "#    sim_geo = gpd.GeoSeries(r['geometry']).simplify(tolerance=0.000001)\n",
    "#    geo_j = sim_geo.to_json()\n",
    "#    geo_j = folium.GeoJson(data=geo_j,\n",
    "#                           style_function=lambda x: {'fillColor': setfarbgruppenfarbe(farbendict,r['Farbe'])},popup=r['Farbgruppe'])\n",
    "#    folium.Popup(r['Farbgruppe']).add_to(geo_j)\n",
    "#    geo_j.add_to(layer3)\n",
    "#layer3.add_to(m)    \n",
    "\n",
    "#layer4 = folium.FeatureGroup(name='Beete Umriss', overlay=True, control=True)     \n",
    "#for _, r in dfBeete.iterrows():\n",
    "##    # Without simplifying the representation of each borough,\n",
    "##    # the map might not be displayed\n",
    "#    sim_geo = gpd.GeoSeries(r['geometry']).simplify(tolerance=0.000001)\n",
    "#    geo_j = sim_geo.to_json()\n",
    "#    #color=setpopupstyle(r['StatusRückmeldung'])\n",
    "#    text='Beetname: {} <br> StatusRückmeldung: {}'.format(r['Beetname'], r['StatusRückmeldung'])\n",
    "#    geo_j = folium.GeoJson(data=geo_j,\n",
    "#                           style_function=lambda x: {'fillColor': setpopupstyle(r['StatusRückmeldung'])})\n",
    "#    folium.Popup(text).add_to(geo_j)\n",
    "#    geo_j.add_to(layer4)\n",
    "#    layer4.add_to(m)    \n",
    "##for _, r in df.iterrows():\n",
    "##    lat = r['centroid'].y\n",
    "##    lon = r['centroid'].x\n",
    "##    #popupcolor,popupicon,popuptext=setpopupstyle(r['Art'],r['BMK_Loc'])\n",
    "##    popuptext=r['Farbgruppe']\n",
    "##    folium.Marker(location=[lat, lon],\n",
    "##                  popup=popuptext#,\n",
    "##                  #icon=folium.Icon(color=popupcolor, icon=popupicon) \n",
    "##                  ).add_to(m)#\n",
    "#\n",
    "##m.add_child(folium.LatLngPopup())  #==> Anzeigen beliebiger Koordinaten auf der Karte              \n",
    "##m.add_child(folium.ClickForMarker(popup=\"Waypoint\")) #==> zusätzl. marker hinzufügen\n",
    "folium.LayerControl().add_to(m)   \n",
    "\n",
    "#LocateControl().add_to(m)\n",
    "m"
   ]
  }
 ],
 "metadata": {
  "kernelspec": {
   "display_name": "base",
   "language": "python",
   "name": "python3"
  },
  "language_info": {
   "codemirror_mode": {
    "name": "ipython",
    "version": 3
   },
   "file_extension": ".py",
   "mimetype": "text/x-python",
   "name": "python",
   "nbconvert_exporter": "python",
   "pygments_lexer": "ipython3",
   "version": "3.10.13"
  },
  "orig_nbformat": 4,
  "vscode": {
   "interpreter": {
    "hash": "ad2bdc8ecc057115af97d19610ffacc2b4e99fae6737bb82f5d7fb13d2f2c186"
   }
  }
 },
 "nbformat": 4,
 "nbformat_minor": 2
}
