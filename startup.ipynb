{
 "cells": [
  {
   "cell_type": "code",
   "execution_count": null,
   "id": "8b3010ea-f7d6-4e1e-8130-eb8dc0989367",
   "metadata": {},
   "outputs": [],
   "source": [
    "#run each time, when the session is started\n",
    "%pip install -r requirements.txt"
   ]
  },
  {
   "cell_type": "code",
   "execution_count": null,
   "id": "49b1a3b0",
   "metadata": {},
   "outputs": [],
   "source": [
    "#import plotly\n",
    "#import kaleido\n",
    "\n",
    "#print(plotly.__version__, kaleido.__version__)"
   ]
  }
 ],
 "metadata": {
  "kernelspec": {
   "display_name": "base",
   "language": "python",
   "name": "python3"
  },
  "language_info": {
   "codemirror_mode": {
    "name": "ipython",
    "version": 3
   },
   "file_extension": ".py",
   "mimetype": "text/x-python",
   "name": "python",
   "nbconvert_exporter": "python",
   "pygments_lexer": "ipython3",
   "version": "3.10.13"
  }
 },
 "nbformat": 4,
 "nbformat_minor": 5
}
