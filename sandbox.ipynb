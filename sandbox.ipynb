{
 "cells": [
  {
   "cell_type": "markdown",
   "metadata": {},
   "source": [
    "# sandbox to test stuff"
   ]
  },
  {
   "cell_type": "code",
   "execution_count": null,
   "metadata": {},
   "outputs": [],
   "source": [
    "import pandas as pd\n",
    "from src.user_lib.read_file import *"
   ]
  },
  {
   "cell_type": "code",
   "execution_count": null,
   "metadata": {},
   "outputs": [],
   "source": [
    "pathtofile = 'Rechnungen_Stadtmobil.xlsx'\n",
    "sheetname = 'Rechnungen_Stadtmobil'\n",
    "df = readDataFromXls(pathtofile,sheetname)\n",
    "df.head(5)"
   ]
  },
  {
   "cell_type": "code",
   "execution_count": null,
   "metadata": {},
   "outputs": [],
   "source": [
    "# Convert the 'Von' and 'Bis' columns to datetime\n",
    "df['Von'] = pd.to_datetime(df['Von'])\n",
    "df['Bis'] = pd.to_datetime(df['Bis'])\n",
    "\n",
    "# Calculate the duration (Dauer) and add it as a new column\n",
    "df['Dauer'] = df['Bis'] - df['Von']\n",
    "# Calculate the duration in hours\n",
    "df['Dauer_hours'] = df['Dauer'].dt.total_seconds() / 3600\n",
    "\n",
    "# Ensure the relevant columns are numeric\n",
    "df['km'] = pd.to_numeric(df['km'], errors='coerce')\n",
    "df['km-/Kraftstoffpreis'] = pd.to_numeric(df['km-/Kraftstoffpreis'], errors='coerce')\n",
    "df['Preis'] = pd.to_numeric(df['Preis'], errors='coerce')\n",
    "df['Zeitpreis'] = pd.to_numeric(df['Zeitpreis'], errors='coerce')\n",
    "\n",
    "\n",
    "# Modify the 'Konto' column based on the condition in 'Erklärung'\n",
    "df['Konto'] = df.apply(lambda row: f\"{row['Konto']}_Storno\" if 'Storno' in str(row['Erklärung']) else row['Konto'], axis=1)\n",
    "\n",
    "# Sort the DataFrame by 'Von' in ascending order\n",
    "df = df.sort_values('Von').reset_index(drop=True)\n",
    "\n",
    "# Create a new column 'Buchungsnr' by numbering the unique 'Von' entries\n",
    "df['Buchungsnr'] = df.groupby('Von').ngroup() + 1\n",
    "\n",
    "# If you want to reset the index after sorting, you can add this line:\n",
    "df.reset_index(drop=True, inplace=True)\n",
    "df.sample(3)"
   ]
  },
  {
   "cell_type": "code",
   "execution_count": null,
   "metadata": {},
   "outputs": [],
   "source": [
    "# Sum up all prices and kilometers\n",
    "total_price = df['Preis'].sum()\n",
    "\n",
    "df_ = df[df['km-/Kraftstoffpreis'].isna()==False]\n",
    "total_km = df_['km'].sum()\n",
    "\n",
    "# Calculate the average price per km\n",
    "average_price_per_km = total_price / total_km if total_km != 0 else None\n",
    "\n",
    "# Print the results\n",
    "print(f\"Total Price: {total_price}\")\n",
    "print(f\"Total km: {total_km}\")\n",
    "print(f\"Average Price per km: {average_price_per_km}\")\n"
   ]
  },
  {
   "cell_type": "code",
   "execution_count": null,
   "metadata": {},
   "outputs": [],
   "source": [
    "import plotly.express as px\n",
    "\n",
    "# Assuming df_fahrten is your DataFrame\n",
    "\n",
    "# Group by 'Konto' and sum the 'Preis' column\n",
    "konto_sums = df.groupby('Konto')['Preis'].sum().reset_index()\n",
    "\n",
    "\n",
    "# Format the title with the calculated values\n",
    "title = (f'Stadtmobil Statistics<br>'\n",
    "         f'Total Price: €{total_price:.2f}<br>'\n",
    "         f'Total km: {total_km:.0f}<br>'\n",
    "         f'avg Price per km: €{average_price_per_km:.2f}')\n",
    "\n",
    "# Create a pie chart with labels showing the sum for each category\n",
    "fig = px.pie(konto_sums, values='Preis', names='Konto',\n",
    "             title=title,\n",
    "             labels={'Preis': 'Total Price', 'Konto': 'Account'},\n",
    "             hole=0.3)  # Optional: Adds a hole in the center for a donut chart look\n",
    "\n",
    "# Update the pie chart to show the sum in the labels\n",
    "fig.update_traces(textinfo='label+value+percent', \n",
    "                  textfont_size=14, \n",
    "                  textposition='outside')\n",
    "\n",
    "## Add annotations with total price, total kilometers, and average price per km\n",
    "#fig.update_layout(\n",
    "#    annotations=[\n",
    "#        dict(\n",
    "#            x=-0.,  # X position of the annotation\n",
    "#            y=0.2,  # Y position of the annotation (below the chart)\n",
    "#            text=f\"Total Price: €{total_price:.2f}<br>Total km: {total_km:.2f}<br>Average Price per km: €{average_price_per_km:.2f}\",\n",
    "#            showarrow=True,\n",
    "#            font=dict(size=14, color=\"black\"),\n",
    "#            align=\"center\",\n",
    "#            xanchor='center',\n",
    "#            yanchor='middle',\n",
    "#            borderpad=4,\n",
    "#            bgcolor=\"rgba(255, 255, 255, 0.8)\",\n",
    "#            bordercolor=\"black\"\n",
    "#        )\n",
    "#    ]\n",
    "#)\n",
    "\n",
    "# Show the figure\n",
    "fig.show()\n"
   ]
  },
  {
   "cell_type": "code",
   "execution_count": null,
   "metadata": {},
   "outputs": [],
   "source": [
    "df_fahrten = df[df['km'].isna()==False]\n",
    "df_fahrten.sample()"
   ]
  },
  {
   "cell_type": "code",
   "execution_count": null,
   "metadata": {},
   "outputs": [],
   "source": [
    "\n",
    "# Sort the DataFrame by 'Von' in ascending order\n",
    "df_fahrten = df_fahrten.sort_values('Von').reset_index(drop=True)\n",
    "\n",
    "# Create a new column 'Buchungsnr' by numbering the unique 'Von' entries\n",
    "df_fahrten['Buchungsnr'] = df_fahrten.groupby('Von').ngroup() + 1\n",
    "\n",
    "# If you want to reset the index after sorting, you can add this line:\n",
    "df_fahrten.reset_index(drop=True, inplace=True)\n",
    "\n"
   ]
  },
  {
   "cell_type": "code",
   "execution_count": null,
   "metadata": {},
   "outputs": [],
   "source": [
    "import plotly.express as px\n",
    "\n",
    "# Assuming df is your DataFrame and the columns are already processed\n",
    "\n",
    "# Create the bar plot\n",
    "fig = px.bar(df_fahrten, x='Buchungsnr', y='Preis', color='Konto', \n",
    "             title='Price over Time by Konto',\n",
    "             labels={'Von': 'Start Date', 'Preis': 'Price', 'Konto': 'Account'},\n",
    "             #barmode='group')\n",
    "             barmode='relative')  # 'relative' makes the bars stacked)\n",
    "\n",
    "# Show the figure\n",
    "fig.show()"
   ]
  },
  {
   "cell_type": "code",
   "execution_count": null,
   "metadata": {},
   "outputs": [],
   "source": [
    "import pandas as pd\n",
    "import plotly.express as px\n",
    "\n",
    "# Sample DataFrame (replace this with your actual DataFrame)\n",
    "# df_fahrten = pd.DataFrame({...})\n",
    "\n",
    "# Ensure the 'Von' column is in datetime format\n",
    "df['Von'] = pd.to_datetime(df['Von'], errors='coerce')\n",
    "\n",
    "# Extract the month and year from the 'Von' column and convert to string format\n",
    "df['Month_Year'] = df['Von'].dt.to_period('M').astype(str)\n",
    "\n",
    "# Aggregate prices by 'Month_Year' and 'Name'\n",
    "monthly_prices = df.groupby(['Month_Year', 'Name'])['Preis'].sum().reset_index()\n",
    "\n",
    "# Pivot the DataFrame to have separate columns for each 'Name'\n",
    "pivot_df = monthly_prices.pivot_table(index='Month_Year', columns='Name', values='Preis', fill_value=0).reset_index()\n",
    "\n",
    "# Create a stacked column chart\n",
    "fig = px.bar(pivot_df, x='Month_Year', y=pivot_df.columns[1:],  # Exclude 'Month_Year' column from y-axis\n",
    "             title='Price per Month for each Name',\n",
    "             labels={'value': 'Total Price', 'Month_Year': 'Month/Year'},\n",
    "             color_discrete_sequence=px.colors.qualitative.Plotly)\n",
    "\n",
    "# Show the figure\n",
    "fig.show()\n",
    "\n"
   ]
  },
  {
   "cell_type": "code",
   "execution_count": null,
   "metadata": {},
   "outputs": [],
   "source": [
    "import pandas as pd\n",
    "import plotly.express as px\n",
    "\n",
    "# Sample DataFrame (replace this with your actual DataFrame)\n",
    "# df_fahrten = pd.DataFrame({...})\n",
    "\n",
    "# Ensure the 'Von' column is in datetime format\n",
    "df['Von'] = pd.to_datetime(df['Von'], errors='coerce')\n",
    "\n",
    "# Extract the month and year from the 'Von' column and convert to string format\n",
    "df['Month_Year'] = df['Von'].dt.to_period('M').astype(str)\n",
    "\n",
    "# Aggregate prices by 'Month_Year', 'Name', and 'Konto'\n",
    "monthly_prices = df.groupby(['Month_Year', 'Name', 'Konto'])['Preis'].sum().reset_index()\n",
    "\n",
    "# Create a stacked column chart with 'Name' as separate columns and 'Konto' as color\n",
    "fig = px.bar(monthly_prices, x='Month_Year', y='Preis', color='Konto',\n",
    "             title='Price per Month for each Name',\n",
    "             labels={'Month_Year': 'Month/Year', 'Preis': 'Total Price', 'Konto': 'Account'},\n",
    "             facet_col='Name',  # Create separate columns for each 'Name'\n",
    "             color_discrete_sequence=px.colors.qualitative.Plotly)\n",
    "\n",
    "# Show the figure\n",
    "fig.show()\n"
   ]
  }
 ],
 "metadata": {
  "kernelspec": {
   "display_name": "Python 3",
   "language": "python",
   "name": "python3"
  },
  "language_info": {
   "codemirror_mode": {
    "name": "ipython",
    "version": 3
   },
   "file_extension": ".py",
   "mimetype": "text/x-python",
   "name": "python",
   "nbconvert_exporter": "python",
   "pygments_lexer": "ipython3",
   "version": "3.10.14"
  }
 },
 "nbformat": 4,
 "nbformat_minor": 2
}
